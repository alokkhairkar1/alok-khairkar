{
 "cells": [
  {
   "cell_type": "code",
   "execution_count": 1,
   "id": "07faa59e-7599-4520-ba6c-0a9000edcbad",
   "metadata": {},
   "outputs": [
    {
     "name": "stdin",
     "output_type": "stream",
     "text": [
      "write the name you want in reverse  order LOK\n"
     ]
    },
    {
     "name": "stdout",
     "output_type": "stream",
     "text": [
      "KOL\n"
     ]
    }
   ],
   "source": [
    "string_input = input(\"write the name you want in reverse  order\")\n",
    "\n",
    "reverse_input = string_input [::-1]\n",
    "\n",
    "print(reverse_input)"
   ]
  },
  {
   "cell_type": "code",
   "execution_count": 3,
   "id": "e6806e69-8712-40e9-9161-9aa8528ad831",
   "metadata": {},
   "outputs": [
    {
     "name": "stdin",
     "output_type": "stream",
     "text": [
      "write the name you want in reverse  order lool\n"
     ]
    },
    {
     "name": "stdout",
     "output_type": "stream",
     "text": [
      "Its a palidrome\n"
     ]
    }
   ],
   "source": [
    "string_input = input(\"write the name you want in reverse  order\")\n",
    "\n",
    "reverse_input = string_input [::-1]\n",
    "\n",
    "if reverse_input == string_input:\n",
    "    print(\"Its a palidrome\")\n",
    "    "
   ]
  },
  {
   "cell_type": "code",
   "execution_count": null,
   "id": "2004cf1c-711a-4342-a757-c1cfbfae786f",
   "metadata": {},
   "outputs": [],
   "source": []
  }
 ],
 "metadata": {
  "kernelspec": {
   "display_name": "Python 3 (ipykernel)",
   "language": "python",
   "name": "python3"
  },
  "language_info": {
   "codemirror_mode": {
    "name": "ipython",
    "version": 3
   },
   "file_extension": ".py",
   "mimetype": "text/x-python",
   "name": "python",
   "nbconvert_exporter": "python",
   "pygments_lexer": "ipython3",
   "version": "3.10.8"
  }
 },
 "nbformat": 4,
 "nbformat_minor": 5
}
